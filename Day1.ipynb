{
  "nbformat": 4,
  "nbformat_minor": 0,
  "metadata": {
    "colab": {
      "provenance": [],
      "authorship_tag": "ABX9TyP/1QhfM1zHkl6k2xyZRonI",
      "include_colab_link": true
    },
    "kernelspec": {
      "name": "python3",
      "display_name": "Python 3"
    },
    "language_info": {
      "name": "python"
    }
  },
  "cells": [
    {
      "cell_type": "markdown",
      "metadata": {
        "id": "view-in-github",
        "colab_type": "text"
      },
      "source": [
        "<a href=\"https://colab.research.google.com/github/anjalisalujaLV/Python_practice/blob/main/Day1.ipynb\" target=\"_parent\"><img src=\"https://colab.research.google.com/assets/colab-badge.svg\" alt=\"Open In Colab\"/></a>"
      ]
    },
    {
      "cell_type": "code",
      "execution_count": null,
      "metadata": {
        "id": "HsHg2nNpV6xT",
        "colab": {
          "base_uri": "https://localhost:8080/"
        },
        "outputId": "2fd8cc2f-411f-4a42-ed0b-b7031f0569c6"
      },
      "outputs": [
        {
          "output_type": "stream",
          "name": "stdout",
          "text": [
            "Enter string: anjali\n",
            "Enter a number4\n",
            "anjali 4\n"
          ]
        }
      ],
      "source": [
        "var1 =input(\"Enter string: \")\n",
        "var2=int(input(\"Enter a number\"))\n",
        "print(var1,var2)"
      ]
    },
    {
      "cell_type": "code",
      "source": [
        "a,b=\"anjali\",4\n",
        "print(a)\n",
        "print(b)"
      ],
      "metadata": {
        "colab": {
          "base_uri": "https://localhost:8080/"
        },
        "id": "gKgDTxEMboUq",
        "outputId": "9bfc4f92-e090-41ce-9d3e-63faee22b30a"
      },
      "execution_count": null,
      "outputs": [
        {
          "output_type": "stream",
          "name": "stdout",
          "text": [
            "anjali\n",
            "4\n"
          ]
        }
      ]
    },
    {
      "cell_type": "code",
      "source": [
        "var1=\"anjali\"\n",
        "\n",
        "def abc():\n",
        "  a=5\n",
        "  print(var1,a)\n",
        "\n",
        "print(var1,a)\n",
        "abc()"
      ],
      "metadata": {
        "id": "TARDfUjtWLNq",
        "colab": {
          "base_uri": "https://localhost:8080/"
        },
        "outputId": "703f137e-17fd-45a7-80c0-244fcfe2d573"
      },
      "execution_count": null,
      "outputs": [
        {
          "output_type": "stream",
          "name": "stdout",
          "text": [
            "anjali anjali\n",
            "anjali 5\n"
          ]
        }
      ]
    },
    {
      "cell_type": "code",
      "source": [
        "var1=\"anjali\"\n",
        "\n",
        "def abc():\n",
        "  global a\n",
        "  a=5\n",
        "  print(var1,a)\n",
        "\n",
        "print(var1,a)\n",
        "abc()\n"
      ],
      "metadata": {
        "id": "Svi1fLrvWKuk",
        "colab": {
          "base_uri": "https://localhost:8080/"
        },
        "outputId": "225928e6-3d0e-48e7-db54-91aaef1ced00"
      },
      "execution_count": null,
      "outputs": [
        {
          "output_type": "stream",
          "name": "stdout",
          "text": [
            "anjali 5\n",
            "anjali 5\n"
          ]
        }
      ]
    },
    {
      "cell_type": "code",
      "source": [
        "#del variable\n",
        "var1=var2=var3=1\n"
      ],
      "metadata": {
        "id": "5IEE6QkvfN50"
      },
      "execution_count": null,
      "outputs": []
    },
    {
      "cell_type": "code",
      "source": [
        "#binary data types ->\n",
        "#memoryview()->used for system applications -> ex FTP ->it shows how much memory is used or how much is left\n",
        "#bytearray()->stores byte into an array\n",
        "a=bytearray('Anjali','UTF-7')\n",
        "b=memoryview(a)\n",
        "print(a)\n",
        "print(type(a))\n",
        "print(b)\n",
        "print(type(b))\n",
        "print(a[0]) # ascii value of A\n",
        "print(list(a[:4]))"
      ],
      "metadata": {
        "colab": {
          "base_uri": "https://localhost:8080/"
        },
        "id": "fNK3b8HRAHUj",
        "outputId": "e1c942d4-0d31-4c8b-9dec-438c20bafb1d"
      },
      "execution_count": 6,
      "outputs": [
        {
          "output_type": "stream",
          "name": "stdout",
          "text": [
            "bytearray(b'Anjali')\n",
            "<class 'bytearray'>\n",
            "<memory at 0x7fcbae957f40>\n",
            "<class 'memoryview'>\n",
            "65\n",
            "[65, 110, 106, 97]\n"
          ]
        }
      ]
    },
    {
      "cell_type": "code",
      "source": [
        "#string slicing\n",
        "var1=\"anjali saluja\"\n",
        "print(var1[7:])\n",
        "print(var1[::2])"
      ],
      "metadata": {
        "colab": {
          "base_uri": "https://localhost:8080/"
        },
        "id": "IrLcJnsBg3Hg",
        "outputId": "8802d01f-5014-49c7-f41d-ce9ec53a08a6"
      },
      "execution_count": null,
      "outputs": [
        {
          "output_type": "stream",
          "name": "stdout",
          "text": [
            "saluja\n",
            "ajl aua\n"
          ]
        }
      ]
    },
    {
      "cell_type": "code",
      "source": [
        "#data structures\n",
        "#list,tuple,dictionary,set\n",
        "#tuple is  immutable\n",
        "#list is mutable\n",
        "#set stores unique values\n",
        "#dict stores key and value pair"
      ],
      "metadata": {
        "id": "6JizW_dziY6Y"
      },
      "execution_count": null,
      "outputs": []
    },
    {
      "cell_type": "code",
      "source": [
        "l1=\"anjali\"\n",
        "print((l1 + ' ')*2)"
      ],
      "metadata": {
        "colab": {
          "base_uri": "https://localhost:8080/"
        },
        "id": "EKg0cvFQkJsJ",
        "outputId": "fb7d6dff-e427-4f54-f81e-e84e1e08af38"
      },
      "execution_count": null,
      "outputs": [
        {
          "output_type": "stream",
          "name": "stdout",
          "text": [
            "anjali anjali \n"
          ]
        }
      ]
    },
    {
      "cell_type": "code",
      "source": [
        "# None type-> where memory allocation is not fixed, so we can assign it None in the beginning\n",
        "# it will take the last value that has been assigned to that variable"
      ],
      "metadata": {
        "id": "lEZeEsu6kdrn"
      },
      "execution_count": null,
      "outputs": []
    }
  ]
}