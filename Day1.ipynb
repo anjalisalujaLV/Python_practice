{
  "nbformat": 4,
  "nbformat_minor": 0,
  "metadata": {
    "colab": {
      "provenance": [],
      "authorship_tag": "ABX9TyN+R41T+/r1GJNogHTJOeZd",
      "include_colab_link": true
    },
    "kernelspec": {
      "name": "python3",
      "display_name": "Python 3"
    },
    "language_info": {
      "name": "python"
    }
  },
  "cells": [
    {
      "cell_type": "markdown",
      "metadata": {
        "id": "view-in-github",
        "colab_type": "text"
      },
      "source": [
        "<a href=\"https://colab.research.google.com/github/anjalisalujaLV/Python_practice/blob/main/Day1.ipynb\" target=\"_parent\"><img src=\"https://colab.research.google.com/assets/colab-badge.svg\" alt=\"Open In Colab\"/></a>"
      ]
    },
    {
      "cell_type": "code",
      "execution_count": 2,
      "metadata": {
        "id": "HsHg2nNpV6xT",
        "colab": {
          "base_uri": "https://localhost:8080/"
        },
        "outputId": "2fd8cc2f-411f-4a42-ed0b-b7031f0569c6"
      },
      "outputs": [
        {
          "output_type": "stream",
          "name": "stdout",
          "text": [
            "Enter string: anjali\n",
            "Enter a number4\n",
            "anjali 4\n"
          ]
        }
      ],
      "source": [
        "var1 =input(\"Enter string: \")\n",
        "var2=int(input(\"Enter a number\"))\n",
        "print(var1,var2)"
      ]
    },
    {
      "cell_type": "code",
      "source": [],
      "metadata": {
        "id": "TARDfUjtWLNq"
      },
      "execution_count": null,
      "outputs": []
    },
    {
      "cell_type": "code",
      "source": [],
      "metadata": {
        "id": "Svi1fLrvWKuk"
      },
      "execution_count": null,
      "outputs": []
    }
  ]
}